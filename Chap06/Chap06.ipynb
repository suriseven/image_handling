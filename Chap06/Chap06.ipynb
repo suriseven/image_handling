{
  "nbformat": 4,
  "nbformat_minor": 0,
  "metadata": {
    "colab": {
      "provenance": []
    },
    "kernelspec": {
      "name": "python3",
      "display_name": "Python 3"
    },
    "language_info": {
      "name": "python"
    },
    "accelerator": "GPU",
    "gpuClass": "standard"
  },
  "cells": [
    {
      "cell_type": "markdown",
      "source": [
        "# Chap06 기계학습 응용효과 검증\n",
        "- YOLOv4 저자의 github 코드를 받아서 대량 증강 이미지를 이용해 학습을 진행합니다\n",
        "- 코드를 조금 수정해서 validation 데이터셋을 연속, 추론하고 라벨링 도구를 이용해 시각화하여 결과를 검증해봅니다\n",
        "- 마지막 주차에는 python 코딩 실습이 거의 없습니다\n",
        "  - 다른 환경의 딥러닝 도구를 사용하지만 예시일 뿐입니다\n",
        "  - 5주차까지 만든 대량 생산 데이터세트의 효과를 검증하기 위한 도구로서 사용합니다\n",
        "  - 따라서 다른 여러분들께서 주로 사용하시는 딥러닝 프레임워크가 있다면 그곳에 맞게 사용하셔도 됩니다"
      ],
      "metadata": {
        "id": "830B-GpZRkWY"
      }
    },
    {
      "cell_type": "markdown",
      "source": [
        "## nvidia-smi\n",
        "- nvidia system monitoring interface\n",
        "- python 코드가 아니라 별도의 실행파일 입니다\n",
        "- 따라서 ! 를 붙여서 실행합니다\n",
        "- K80(keppler 아키텍쳐) 인지 T4(Tesla 아키텍쳐) 인지 확인합니다\n",
        "  - 별도 colab 구독 서비스에 가입하지 않았다면 이 둘중 하나로 배정됩니다\n",
        "  - darknet을 빌드할 때 이 정보를 알아야 합니다"
      ],
      "metadata": {
        "id": "jk47hQcBSIY8"
      }
    },
    {
      "cell_type": "code",
      "execution_count": null,
      "metadata": {
        "id": "iynLcPzxRele"
      },
      "outputs": [],
      "source": [
        "! nvidia-smi"
      ]
    },
    {
      "cell_type": "markdown",
      "source": [
        "## C++ 에 대해 잠깐만 짚고 넘어가겠습니다\n",
        "- 런타임에 기계어로 번역되는 python과 달리 런타임 이전에 번역되는 빌드타임이 별도로 \n",
        "존재하고 이 때 별도의 실행파일을 만듭니다\n",
        "  - python은 아래와 같이 python 이라는 실행파일을 이용해 test.py 라는 소스를 바로 실행합니다\n",
        "  ```\n",
        "  python test.py\n",
        "  ```\n",
        "  - C++ 은 빌드타임에 생성된 실행파일을 직접 실행합니다\n",
        "  ```\n",
        "  ./test\n",
        "  ```\n",
        "- 실행파일을 만드는 설정파일이 Makefile 입니다\n",
        "  - 아주간단한 예를들어 실행파일의 이름을 설정할 수 있습니다\n",
        "- colab에 할당된 GPU 기종에 따라 이 Makefile 설정이 필요합니다\n",
        "  - `이 부분 때문에 짚고 넘어갔습니다`"
      ],
      "metadata": {
        "id": "ENMKxpXCQjUw"
      }
    },
    {
      "cell_type": "markdown",
      "source": [
        "## darknet 빌드\n",
        "- darknet이란?\n",
        "- YOLO 원저자가 만든 오픈소스 딥러닝 프레임워크\n",
        "- 원저자는 YOLOv3 이후로 연구를 중단하고 이후 YOLOv4 의 저자가 오리지널 darknet을 fork 하여 만든 darknet이 더 널리 쓰이고 있음 \n",
        "- https://github.com/AlexeyAB/darknet\n",
        "  - YOLO License 2.0\n",
        "  - https://github.com/AlexeyAB/darknet/blob/yolov4/LICENSE\n",
        "- YOLOv4 의 공저자가 이후 YOLOv7 을 발표하였으나 darknet 에서 구현하지는 않고 ultralytics 의 Pytorch 프로젝트로부터 fork 하여 구현\n",
        "  - GPL 3.0 "
      ],
      "metadata": {
        "id": "ZR2jkssHSunY"
      }
    },
    {
      "cell_type": "code",
      "source": [
        "! git clone https://github.com/AlexeyAB/darknet.git\n",
        "! cd darknet && git reset --hard HEAD\n",
        "! cd darknet && git checkout tags/yolov4\n",
        "! cd darknet && wget https://github.com/AlexeyAB/darknet/releases/download/darknet_yolo_v4_pre/yolov4-tiny.weights"
      ],
      "metadata": {
        "id": "YSHVXyHkU-Nu"
      },
      "execution_count": null,
      "outputs": []
    },
    {
      "cell_type": "markdown",
      "source": [
        "# Makefile 수정\n",
        "- ARCH 주석이 여러개 있는데 NVIDIA T4로 할당 되었다면 아래 하나만 풀어줍니다\n",
        "\n",
        "```\n",
        "GPU=1\n",
        "CUDNN=1\n",
        "OPENCV=1\n",
        "\n",
        "ARCH= -gencode arch=compute_75,code=[sm_75,compute_75]\n",
        "\n",
        "```"
      ],
      "metadata": {
        "id": "C8I6Z-yvEEf8"
      }
    },
    {
      "cell_type": "code",
      "source": [
        "! cd darknet && make"
      ],
      "metadata": {
        "id": "JEl_92peV2ns"
      },
      "execution_count": null,
      "outputs": []
    },
    {
      "cell_type": "markdown",
      "source": [
        "# 이미지 1장 추론해보기"
      ],
      "metadata": {
        "id": "VOiiQTYFWnq0"
      }
    },
    {
      "cell_type": "code",
      "source": [
        "! wget http://pjreddie.com/media/files/VOCtrainval_11-May-2012.tar\n",
        "! tar xvf VOCtrainval_11-May-2012.tar"
      ],
      "metadata": {
        "id": "ELi3dZxcF7Zr"
      },
      "execution_count": null,
      "outputs": []
    },
    {
      "cell_type": "code",
      "source": [
        "# labels 디렉토리를 만들어야 추론 결과가 이곳에 기록되는 구조입니다\n",
        "! mkdir /content/VOCdevkit/VOC2012/labels\n",
        "! cd darknet && ./darknet detector test ./cfg/coco.data ./cfg/yolov4-tiny.cfg ./yolov4-tiny.weights /content/VOCdevkit/VOC2012/JPEGImages -dont_show  -save_labels"
      ],
      "metadata": {
        "id": "9Nw_q4BsWtjY"
      },
      "execution_count": null,
      "outputs": []
    },
    {
      "cell_type": "markdown",
      "source": [
        "# 뭔가 의도한대로 돌아가지 않습니다\n",
        "- 원본 코드는 이미지 1장만 추론할 수 있도록 구현되어 있기 때문입니다\n",
        "- 아래와 같이 src/detector.c 의 test_detector() 를 수정해봅니다\n",
        "- yolov4 태그로 checkout한 src/detector.c 기준 line 1645 ~ 1748을 아래 코드로 치환\n",
        "  - 치환 완료하고 나서 line 386 에 아래 코드 수정(net.max_batches < 1000000)\n",
        "  ```cpp\n",
        "          if ((iteration >= (iter_save + 10000) || iteration % 10000 == 0) ||\n",
        "            (iteration >= (iter_save + 1000) || iteration % 1000 == 0) && net.max_batches < 1000000)\n",
        "  ```\n",
        "  - 치환 완료하고 나서 파일의 최상단에 아래 include도 추가\n",
        "  ```cpp\n",
        "  #include <dirent.h>\n",
        "  #include <string.h>\n",
        "  ```\n",
        "- stdin 으로 파일 경로입력 받는 것을 지정된 디렉토리를 순회하면서 연속적으로 이미지파일을 추론하는 것으로 변경한 코드입니다"
      ],
      "metadata": {
        "id": "ybyATB2bFeHc"
      }
    },
    {
      "cell_type": "markdown",
      "source": [
        "```cpp\n",
        "\t\n",
        "\tDIR *dir;\n",
        "\tstruct dirent *ent;\n",
        "\n",
        "\t// 실행 파라미터로 받은 filename 을 디렉토리이름으로 대신 사용합니다\n",
        "\t// 변수명은 filename이지만 사실은 디렉토리이름 입니다\n",
        "\tif ((dir = opendir (filename)) != NULL) {\n",
        "\t\t/* print all the files and directories within directory */\n",
        "\t\t// 디렉토리의 모든 파일에 대해 루프를 돌면서 처리합니다\n",
        "\t\twhile ((ent = readdir (dir)) != NULL) {\n",
        "\n",
        "\t\t\t// jpg 로 끝나는 파일이 아니면 무시합니다. strcspn 함수는 찾는 문자열이 나오지 않으면 원본 문자열의 길이를 리턴합니다\n",
        "\t\t\tint index = strcspn (ent->d_name, \"jpg\");\n",
        "\t\t\tif( index == strlen(ent->d_name)){\n",
        "\t\t\t\t\tcontinue;\n",
        "\t\t\t}\n",
        "\n",
        "\t\t\t// 기존에 input이라고 되어있는 변수 대신 file_path 라는 변수를 사용해 이미지를 한장씩 읽습니다\n",
        "\t\t\t// filename이 사실은 디렉토리 경로이기 때문에 사실 아래 코드는 python의 os.path.join(filename, ent->d_name) 과 같습니다\n",
        "\t\t\t// ent->d_name은 디렉토리 내에 있는 파일 이름이기 때문에 os.path.join(디렉토리,파일명) 과 같습니다\n",
        "\t\t\tchar file_path[256] = {0,};\n",
        "\t\t\tstrcat(file_path, filename);\n",
        "\t\t\tstrcat(file_path, \"/\");\n",
        "\t\t\tstrcat(file_path, ent->d_name);\n",
        "\t\t\tprintf(\"%s\\n\", file_path);\n",
        "\t\t\t\t\n",
        "\t\t\t//image im;\n",
        "\t\t\t//image sized = load_image_resize(input, net.w, net.h, net.c, &im);\n",
        "\n",
        "\t\t\timage im = load_image(file_path, 0, 0, net.c);\n",
        "\t\t\timage sized;\n",
        "\t\t\tif(letter_box) sized = letterbox_image(im, net.w, net.h);\n",
        "\t\t\telse sized = resize_image(im, net.w, net.h);\n",
        "\n",
        "\t\t\tlayer l = net.layers[net.n - 1];\n",
        "\t\t\tint k;\n",
        "\t\t\tfor (k = 0; k < net.n; ++k) {\n",
        "\t\t\t\tlayer lk = net.layers[k];\n",
        "\t\t\t\tif (lk.type == YOLO || lk.type == GAUSSIAN_YOLO || lk.type == REGION) {\n",
        "\t\t\t\t\tl = lk;\n",
        "\t\t\t\t\tprintf(\" Detection layer: %d - type = %d \\n\", k, l.type);\n",
        "\t\t\t\t}\n",
        "\t\t\t}\n",
        "\n",
        "\t\t\t//box *boxes = calloc(l.w*l.h*l.n, sizeof(box));\n",
        "\t\t\t//float **probs = calloc(l.w*l.h*l.n, sizeof(float*));\n",
        "\t\t\t//for(j = 0; j < l.w*l.h*l.n; ++j) probs[j] = (float*)xcalloc(l.classes, sizeof(float));\n",
        "\n",
        "\t\t\tfloat *X = sized.data;\n",
        "\n",
        "\t\t\t//time= what_time_is_it_now();\n",
        "\t\t\tdouble time = get_time_point();\n",
        "\t\t\tnetwork_predict(net, X);\n",
        "\t\t\t//network_predict_image(&net, im); letterbox = 1;\n",
        "\t\t\t// 원래 stdin으로 받아 input으로 넘긴 변수를 file_path 로 대신 사용합니다 \n",
        "\t\t\tprintf(\"%s: Predicted in %lf milli-seconds.\\n\", file_path, ((double)get_time_point() - time) / 1000);\n",
        "\t\t\t//printf(\"%s: Predicted in %f seconds.\\n\", input, (what_time_is_it_now()-time));\n",
        "\n",
        "\t\t\tint nboxes = 0;\n",
        "\t\t\tdetection *dets = get_network_boxes(&net, im.w, im.h, thresh, hier_thresh, 0, 1, &nboxes, letter_box);\n",
        "\t\t\tif (nms) {\n",
        "\t\t\t\tif (l.nms_kind == DEFAULT_NMS) do_nms_sort(dets, nboxes, l.classes, nms);\n",
        "\t\t\t\telse diounms_sort(dets, nboxes, l.classes, nms, l.nms_kind, l.beta_nms);\n",
        "\t\t\t}\n",
        "\t\t\tdraw_detections_v3(im, dets, nboxes, thresh, names, alphabet, l.classes, ext_output);\n",
        "\t\t\tsave_image(im, \"predictions\");\n",
        "\t\t\tif (!dont_show) {\n",
        "\t\t\t\tshow_image(im, \"predictions\");\n",
        "\t\t\t}\n",
        "\n",
        "\t\t\tif (json_file) {\n",
        "\t\t\t\tif (json_buf) {\n",
        "\t\t\t\t\tchar *tmp = \", \\n\";\n",
        "\t\t\t\t\tfwrite(tmp, sizeof(char), strlen(tmp), json_file);\n",
        "\t\t\t\t}\n",
        "\t\t\t\t++json_image_id;\n",
        "\t\t\t\t// 원래 stdin으로 받아 input으로 넘긴 변수를 file_path 로 대신 사용합니다 \n",
        "\t\t\t\tjson_buf = detection_to_json(dets, nboxes, l.classes, names, json_image_id, file_path);\n",
        "\n",
        "\t\t\t\tfwrite(json_buf, sizeof(char), strlen(json_buf), json_file);\n",
        "\t\t\t\tfree(json_buf);\n",
        "\t\t\t}\n",
        "\n",
        "\t\t\t// pseudo labeling concept - fast.ai\n",
        "\t\t\tif (save_labels)\n",
        "\t\t\t{\n",
        "\t\t\t\tchar labelpath[4096];\n",
        "\t\t\t\t// 원래 stdin으로 받아 input으로 넘긴 변수를 file_path 로 대신 사용합니다, 추론결과를 YOLO 포맷의 라벨링 파일로 저장하는 구문입니다 \n",
        "\t\t\t\treplace_image_to_label(file_path, labelpath);\n",
        "\n",
        "\t\t\t\tFILE* fw = fopen(labelpath, \"wb\");\n",
        "\t\t\t\tint i;\n",
        "\t\t\t\tfor (i = 0; i < nboxes; ++i) {\n",
        "\t\t\t\t\tchar buff[1024];\n",
        "\t\t\t\t\tint class_id = -1;\n",
        "\t\t\t\t\tfloat prob = 0;\n",
        "\t\t\t\t\tfor (j = 0; j < l.classes; ++j) {\n",
        "\t\t\t\t\t\tif (dets[i].prob[j] > thresh && dets[i].prob[j] > prob) {\n",
        "\t\t\t\t\t\t\tprob = dets[i].prob[j];\n",
        "\t\t\t\t\t\t\tclass_id = j;\n",
        "\t\t\t\t\t\t}\n",
        "\t\t\t\t\t}\n",
        "\t\t\t\t\tif (class_id >= 0) {\n",
        "\t\t\t\t\t\tsprintf(buff, \"%d %2.4f %2.4f %2.4f %2.4f\\n\", class_id, dets[i].bbox.x, dets[i].bbox.y, dets[i].bbox.w, dets[i].bbox.h);\n",
        "\t\t\t\t\t\tfwrite(buff, sizeof(char), strlen(buff), fw);\n",
        "\t\t\t\t\t}\n",
        "\t\t\t\t}\n",
        "\t\t\t\tfclose(fw);\n",
        "\t\t\t}\n",
        "\n",
        "\t\t\tfree_detections(dets, nboxes);\n",
        "\t\t\tfree_image(im);\n",
        "\t\t\tfree_image(sized);\n",
        "\n",
        "\t\t\tif (!dont_show) {\n",
        "\t\t\t\twait_until_press_key_cv();\n",
        "\t\t\t\tdestroy_all_windows_cv();\n",
        "\t\t\t}\n",
        "\t\t}\n",
        "\t\tclosedir (dir);\n",
        "\t} else {\n",
        "\t  /* could not open directory */\n",
        "\t  perror (\"\");\n",
        "\t  return EXIT_FAILURE;\n",
        "\t}\n",
        "```"
      ],
      "metadata": {
        "id": "Uzm1KKBEvY3Y"
      }
    },
    {
      "cell_type": "markdown",
      "source": [
        "## 수정을 했으니 다시 빌드 합시다"
      ],
      "metadata": {
        "id": "HxzP_AAEAvOl"
      }
    },
    {
      "cell_type": "code",
      "source": [
        "! cd darknet && make"
      ],
      "metadata": {
        "id": "lusuuRmzAwyc"
      },
      "execution_count": null,
      "outputs": []
    },
    {
      "cell_type": "markdown",
      "source": [
        "# 빌드한 파일은 다음에 다시 빌드하지 않도록 저장합시다\n",
        "- 런타임 연결이 해제되면 임시드라이브에 빌드한 파일은 사라집니다\n",
        "- 여러분의 드라이브에 디렉토리 하나를 지정합시다"
      ],
      "metadata": {
        "id": "QTPTejuU3f4H"
      }
    },
    {
      "cell_type": "code",
      "source": [
        "import os\n",
        "os.environ['MY_TRAIN_HOME'] = \"/content/drive/MyDrive/mytrain\""
      ],
      "metadata": {
        "id": "dgh8Q62w7WrV"
      },
      "execution_count": null,
      "outputs": []
    },
    {
      "cell_type": "code",
      "source": [
        "! mkdir -p $MY_TRAIN_HOME\n",
        "! ln -s $MY_TRAIN_HOME /content/train\n",
        "! cp /content/darknet/darknet $MY_TRAIN_HOME"
      ],
      "metadata": {
        "id": "6mBIW6td3fnM"
      },
      "execution_count": null,
      "outputs": []
    },
    {
      "cell_type": "markdown",
      "source": [
        "# YOLOv4-tiny 학습에 필요한 초기 weights 를 다운로드 받습니다"
      ],
      "metadata": {
        "id": "W4PB4yc7Cnx7"
      }
    },
    {
      "cell_type": "code",
      "source": [
        "! mkdir -p /content/train/weights\n",
        "! wget https://github.com/AlexeyAB/darknet/releases/download/darknet_yolo_v4_pre/yolov4-tiny.conv.29\n",
        "! mv yolov4-tiny.conv.29 /content/train/weights"
      ],
      "metadata": {
        "id": "lg-evVw3W3bx"
      },
      "execution_count": null,
      "outputs": []
    },
    {
      "cell_type": "markdown",
      "source": [
        "# 학습 모드로 구동해봅시다\n",
        "- VOC2012 데이터세트는 PascalVOC 포맷으로 되어있기 때문에 YOLO포맷 변경이 필요하겠습니다\n",
        "- YOLO 포맷에는 클래스 정의 파일이 별도로 필요합니다\n",
        "- foot, hand, head 는 Main task에 없는 클래스 이므로 제외합니다\n",
        "- VOC2012 Development Kit 문서를 확인해봐도 되고 bash커맨드로 확인할 수도 있습니다 "
      ],
      "metadata": {
        "id": "rmXCnpOzZEBh"
      }
    },
    {
      "cell_type": "code",
      "source": [
        "! mkdir -p /content/train/cfg\n",
        "! find /content/VOCdevkit/VOC2012/Annotations -name \"*.xml\" | xargs grep \"<name>\" | awk '{print $2}' | sed 's/<name>//g' | sed 's/<\\/name>//g' | grep -v foot | grep -v hand | grep -v head | sort | uniq > /content/train/cfg/classes.txt\n",
        "! cat /content/train/cfg/classes.txt"
      ],
      "metadata": {
        "id": "6gQ4hN2pZm7D"
      },
      "execution_count": null,
      "outputs": []
    },
    {
      "cell_type": "markdown",
      "source": [
        "## VOC 2012 기본 데이터셋을 학습시켜봅시다\n",
        "- 먼저 Pascal VOC 포맷을 YOLO 포맷으로 변경합니다\n",
        "  - 오픈소스 갖다쓰기부터 시작합시다\n",
        "- train/valid set을 나누어 리스트 파일을 생성합니다\n",
        "- config 파일을 생성합니다"
      ],
      "metadata": {
        "id": "ng47Oqu7aHoN"
      }
    },
    {
      "cell_type": "markdown",
      "source": [
        "## Pascal VOC 포맷을 YOLO 포맷으로 변경\n",
        "- 오픈소스 갖다쓰기\n",
        "  - labelImg 오픈소스에서 Pascal VOC -> YOLO 변환 함수만 가져옵니다\n",
        "\n",
        "-  전에 썼던 코드 재사용하기\n",
        "  - Pascal VOC 읽기는 3주차에 많이 했으니 그 코드를 재사용 합시다\n",
        "\n",
        "- 클래스 리스트 만들기\n",
        "  - YOLO 에서는 클래스 리스트가 필수입니다\n",
        "  - Annotation에서 클래스 이름이 아닌 클래스 인덱스가 기록되기 때문입니다\n",
        "\n",
        "-  2개 쓰는 코드 만들기\n",
        "  - 디렉토리를 순회하면서 Pascal VOC 라벨링 파일을 읽어서 YOLO 포맷으로 저장합시다"
      ],
      "metadata": {
        "id": "BsKtgJPbbdEC"
      }
    },
    {
      "cell_type": "code",
      "source": [
        "# 이거는 다운로드 안되었을 때에만 다시 하기\n",
        "# ! wget http://pjreddie.com/media/files/VOCtrainval_11-May-2012.tar\n",
        "# ! tar xvf VOCtrainval_11-May-2012.tar"
      ],
      "metadata": {
        "id": "FL__tjZj5iFO"
      },
      "execution_count": null,
      "outputs": []
    },
    {
      "cell_type": "code",
      "source": [
        "# labelImg 오픈소스에서 Pascal VOC -> YOLO 변환 함수\n",
        "# self 대신 img_size를 파라미터로 넘기도록 변경합시다\n",
        "def bnd_box_to_yolo_line(img_size, box, class_list=[]):\n",
        "    x_min = box['xmin']\n",
        "    x_max = box['xmax']\n",
        "    y_min = box['ymin']\n",
        "    y_max = box['ymax']\n",
        "\n",
        "    x_center = float((x_min + x_max)) / 2 / img_size[1]\n",
        "    y_center = float((y_min + y_max)) / 2 / img_size[0]\n",
        "\n",
        "    w = float((x_max - x_min)) / img_size[1]\n",
        "    h = float((y_max - y_min)) / img_size[0]\n",
        "\n",
        "    # PR387\n",
        "    box_name = box['name']\n",
        "    if box_name not in class_list:\n",
        "        class_list.append(box_name)\n",
        "\n",
        "    class_index = class_list.index(box_name)\n",
        "\n",
        "    return class_index, x_center, y_center, w, h"
      ],
      "metadata": {
        "id": "XTY2EYSabIG9"
      },
      "execution_count": null,
      "outputs": []
    },
    {
      "cell_type": "code",
      "source": [
        "# 3주차에 많이 했던 Pascal VOC 읽기\n",
        "import cv2\n",
        "import xml.etree.ElementTree as Et\n",
        "from xml.etree.ElementTree import Element, ElementTree\n",
        "\n",
        "def read_pascal_voc(filename):\n",
        "\n",
        "    with open (filename, 'r', encoding='utf8') as xml:\n",
        "\n",
        "        tree = Et.parse(xml)        \n",
        "        root = tree.getroot()\n",
        "\n",
        "        pascal_objects = []\n",
        "\n",
        "        size = root.find(\"size\")\n",
        "        width = int(size.find(\"width\").text)\n",
        "        height = int(size.find(\"height\").text)\n",
        "        img_size = [height, width]\n",
        "\n",
        "        objects = root.findall(\"object\")\n",
        "        for _object in objects:\n",
        "            name = _object.find(\"name\").text\n",
        "            bndbox = _object.find(\"bndbox\")\n",
        "\n",
        "            xmin = int(float(bndbox.find(\"xmin\").text))\n",
        "            ymin = int(float(bndbox.find(\"ymin\").text))\n",
        "            xmax = int(float(bndbox.find(\"xmax\").text))\n",
        "            ymax = int(float(bndbox.find(\"ymax\").text))\n",
        "\n",
        "            box = {'xmin':xmin, 'ymin':ymin, 'xmax':xmax, 'ymax':ymax, 'name':name, 'img_size':img_size }\n",
        "            pascal_objects.append(box)\n",
        "        return img_size, pascal_objects"
      ],
      "metadata": {
        "id": "DwAx_h1WbuO3"
      },
      "execution_count": null,
      "outputs": []
    },
    {
      "cell_type": "code",
      "source": [
        "import os\n",
        "import json\n",
        "\n",
        "# 원본 Pascal VOC annotation 경로\n",
        "pascal_voc_annotation_dir = '/content/VOCdevkit/VOC2012/Annotations'\n",
        "\n",
        "# darknet에서 읽을 YOLO annotation 경로\n",
        "yolo_annotation_dir = '/content/VOCdevkit/VOC2012/labels'\n",
        "\n",
        "# class 리스트 파일은 YOLO에서 필수입니다\n",
        "class_list_file = '/content/train/cfg/classes.txt'\n",
        "\n",
        "os.makedirs(yolo_annotation_dir, exist_ok=True)\n",
        "\n",
        "class_list = []\n",
        "\n",
        "with open (class_list_file, 'r', encoding='utf8') as classes_file:\n",
        "    classes = classes_file.readlines()\n",
        "    for c in classes:\n",
        "        class_list.append(c.rstrip())\n",
        "\n",
        "print(class_list)\n",
        "\n",
        "\n",
        "for f in os.listdir(pascal_voc_annotation_dir):\n",
        "    if f.endswith('.xml'):\n",
        "        pascal_voc_file_path = os.path.join(pascal_voc_annotation_dir, f)\n",
        "        print(pascal_voc_file_path)\n",
        "\n",
        "        yolo_file_path = os.path.join(yolo_annotation_dir, os.path.basename(pascal_voc_file_path)[:-4] + '.txt')\n",
        "        img_size, boxs = read_pascal_voc(pascal_voc_file_path)\n",
        "\n",
        "        with open (yolo_file_path, 'w', encoding='utf8') as yolo_file:\n",
        "            for box in boxs:      \n",
        "                class_index, x_center, y_center, w, h = bnd_box_to_yolo_line(img_size, box=box, class_list=class_list)                \n",
        "                yolo_file.write('{} {} {} {} {}\\n'.format(class_index, x_center, y_center, w, h))\n",
        "                print(yolo_file_path, class_index, x_center, y_center, w, h)\n",
        "    else:\n",
        "        print('{} is not Pascal VOC format'.format(f))"
      ],
      "metadata": {
        "id": "C21cfjdkcPZ1"
      },
      "execution_count": null,
      "outputs": []
    },
    {
      "cell_type": "markdown",
      "source": [
        "## train 데이터세트 리스트와 valid 데이터세트 리스트 만들기\n",
        "- jpg 파일의 절대경로가 기록된 텍스트 파일입니다\n",
        "- darknet에서 이 파일을 보고 이미지 경로를 받아옵니다\n",
        "- 그리고 이 이미지가 있는 디렉토리를 기준으로 ../labels 디렉토리로부터 annotation 파일을 받아옵니다\n",
        "  - darknet이 그렇게 동작하기 때문에 위에 소스코드에서도 YOLO annotation 변환경로를 설정했습니다\n",
        "- train/valid 는 Main task에 정의된 것을 따릅니다"
      ],
      "metadata": {
        "id": "9BrvBKOobtm1"
      }
    },
    {
      "cell_type": "code",
      "source": [
        "# 이거는 다운로드 안되었을 때에만 다시 하기\n",
        "# ! wget http://pjreddie.com/media/files/VOCtrainval_11-May-2012.tar\n",
        "# ! tar xvf VOCtrainval_11-May-2012.tar\n",
        "\n",
        "! mkdir -p /content/train\n",
        "! cat /content/VOCdevkit/VOC2012/ImageSets/Main/train.txt | awk '{printf \"/content/VOCdevkit/VOC2012/JPEGImages/%s.jpg\\n\",$1}' > /content/train/cfg/train.list\n",
        "! cat /content/VOCdevkit/VOC2012/ImageSets/Main/val.txt | awk '{printf \"/content/VOCdevkit/VOC2012/JPEGImages/%s.jpg\\n\",$1}' > /content/train/cfg/valid.list\n",
        "\n",
        "# 설정 파일을 만듭니다. 내용은 아래 셀의 내용이 들어갑니다\n",
        "! echo \"classes= 20\" >> /content/train/cfg/train.data\n",
        "! echo \"train = /content/train/cfg/train.list\" >> /content/train/cfg/train.data\n",
        "! echo \"valid  = /content/train/cfg/valid.list\" >> /content/train/cfg/train.data\n",
        "! echo \"names = /content/train/cfg/classes.txt\" >> /content/train/cfg/train.data\n",
        "! echo \"backup = /content/train/weights\" >> /content/train/cfg/train.data"
      ],
      "metadata": {
        "id": "btvE5Xy0phu4"
      },
      "execution_count": null,
      "outputs": []
    },
    {
      "cell_type": "markdown",
      "source": [
        "## 설정 파일 작성\n",
        "- 학습 경로 설정파일(train.data)\n",
        "  - 아래와 같이 저장해서 /content/train/train.data 또는 편하신 경로에 저장합니다\n",
        "  - 단, 그 경로는 기억해둡니다\n",
        "\n",
        "```\n",
        "classes= 20\n",
        "train = /content/train/cfg/train.list\n",
        "valid  = /content/train/cfg/valid.list\n",
        "names = /content/train/cfg/classes.txt\n",
        "\n",
        "# weights 저장경로인데 google drive에 공간이 여유가 있다면 가급적 google drive 경로로 지정합니다\n",
        "backup = /content/train/weights\n",
        "```\n",
        "- 모델 설정 파일(yolov4-tiny.cfg)\n",
        "  - 원본 yolov4-tiny.cfg 에서 다음 사항을 수정합니다\n",
        "  - [yolo] 라고 써진 layer로 스크롤을 내려봅니다\n",
        "  - anchors\n",
        "    - 아래 계산된 anchor로 수정\n",
        "  - classes\n",
        "    - 위에 작성한 classes.txt가 몇줄인지 확인하고 그 수로 수정합니다\n",
        "  - [yolo] 라고 써진 layer 바로 위에 있는 [convolutional] layer의 filter(255라고 되어있을 것입니다) 를 다음 수로 수정\n",
        "    - (num of classes + 5 ) x 3"
      ],
      "metadata": {
        "id": "qnHSQJ0r8FYH"
      }
    },
    {
      "cell_type": "markdown",
      "source": [
        "## anchor 계산\n",
        "- tiny-YOLOv4 기준으로 6개의 anchor가 필요하므로 train셋 기준으로 anchor를 재계산합니다\n",
        "  - 여기서 계산된 anchor를 yolov4-tiny.cfg 에 적용합니다"
      ],
      "metadata": {
        "id": "fEjNdHIt75NI"
      }
    },
    {
      "cell_type": "code",
      "source": [
        "! cd /content/train && chmod 755 darknet && ./darknet detector calc_anchors /content/train/cfg/train.data -num_of_clusters 6 -width 416 -height 416"
      ],
      "metadata": {
        "id": "K7U250EnJ_fa"
      },
      "execution_count": null,
      "outputs": []
    },
    {
      "cell_type": "markdown",
      "source": [
        "# yolov4-tiny 설정 파일을 수정합시다"
      ],
      "metadata": {
        "id": "EFrQkTu7DiwY"
      }
    },
    {
      "cell_type": "code",
      "source": [
        "! cp /content/darknet/cfg/yolov4-tiny.cfg /content/train/cfg/"
      ],
      "metadata": {
        "id": "2qrXaQw-Dlow"
      },
      "execution_count": null,
      "outputs": []
    },
    {
      "cell_type": "markdown",
      "source": [
        "## 학습 시작\n"
      ],
      "metadata": {
        "id": "JL8n6WAB4Vzo"
      }
    },
    {
      "cell_type": "code",
      "source": [
        "! cd /content/train && ./darknet detector train /content/train/cfg/train.data /content/train/cfg/yolov4-tiny.cfg /content/train/weights/yolov4-tiny.conv.29 -dont_show"
      ],
      "metadata": {
        "id": "1D0mL9WEI8a-"
      },
      "execution_count": null,
      "outputs": []
    },
    {
      "cell_type": "markdown",
      "source": [
        "# mAP 평가\n",
        "- 아래 용어를 혹시 모르신다면 참고해주세요\n",
        "- IoU\n",
        "  - Intersection Over Union\n",
        "  - 여기서는 ground truth와 추론된 영역의 IoU를 의미합니다\n",
        "- TP\n",
        "  - True Positive\n",
        "  - validation 데이터에 있는 오브젝트를 맞게 추론함\n",
        "- FP\n",
        "  - False Positive\n",
        "  - validation 데이터에 없는 오브젝트를 추론함\n",
        "- FN\n",
        "  - False Negative\n",
        "  - validation 데이터에 있는 오브젝트를 추론하지 못함\n",
        "- 맞게 추론했다의 의미\n",
        "  - mAP@0.50 => ground truth와 추론된 영역의 IoU가 0.5 이상인 경우 맞게 추론한 것으로 인정"
      ],
      "metadata": {
        "id": "UZWtkSsw4QQ5"
      }
    },
    {
      "cell_type": "code",
      "source": [
        "! cd /content/train/ &&  ./darknet detector map /content/train/cfg/train.data /content/train/cfg/yolov4-tiny.cfg /content/train/weights/yolov4-tiny_last.weights"
      ],
      "metadata": {
        "id": "iWpfXjtElZE5"
      },
      "execution_count": null,
      "outputs": []
    },
    {
      "cell_type": "markdown",
      "source": [
        "## 결과가 어떤가요?\n",
        "- 혹시 person을 제외한 나머지 클래스의 추론결과가 좋지 않은가요?\n",
        "- 그럼 이제 여러분이 만든 데이터를 투입해봅시다"
      ],
      "metadata": {
        "id": "VMV08LOx-tnt"
      }
    }
  ]
}